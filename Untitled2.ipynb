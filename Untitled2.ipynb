{
 "cells": [
  {
   "cell_type": "code",
   "execution_count": 2,
   "id": "4806d0e9",
   "metadata": {},
   "outputs": [],
   "source": [
    "\n",
    "import selenium\n",
    "import pandas as pd\n",
    "from selenium import webdriver"
   ]
  },
  {
   "cell_type": "code",
   "execution_count": 2,
   "id": "a6eb7fab",
   "metadata": {},
   "outputs": [],
   "source": [
    "driver = webdriver.Chrome(\"chromedriver.exe\")\n",
    "url=\"https://www.naukri.com/\"\n",
    "driver.get(url)\n",
    "search_job= driver.find_element_by_id('qsb-keyword-sugg')\n",
    "search_job.send_keys(\"Data Analyst\")\n",
    "location= driver.find_element_by_id('qsb-location-sugg')\n",
    "location.send_keys(\"Banglore\")\n",
    "Button=driver.find_element_by_xpath(\"//button[@class='btn']\")\n",
    "Button.click()"
   ]
  },
  {
   "cell_type": "code",
   "execution_count": 3,
   "id": "97fd8ab5",
   "metadata": {},
   "outputs": [
    {
     "data": {
      "text/plain": [
       "['Business Data Analyst',\n",
       " 'Business Data Analyst',\n",
       " 'Data Analyst/Business Analyst-Gurgaon/Bangalore/Mumbai only Females',\n",
       " 'Data Analyst',\n",
       " 'Data Analyst',\n",
       " 'Systems and Data Analyst, Safety and Provisioning',\n",
       " 'Data Analyst',\n",
       " 'Data Analyst',\n",
       " 'Data Analyst',\n",
       " 'Senior Data Analyst - SQL/Tableau/Redshift']"
      ]
     },
     "execution_count": 3,
     "metadata": {},
     "output_type": "execute_result"
    }
   ],
   "source": [
    "Job=driver.find_elements_by_xpath(\"//a[@class='title fw500 ellipsis']\")\n",
    "Job_title = [] #empty list\n",
    "for i in Job:\n",
    "    a=i.text.replace('(','')\n",
    "    Job_title.append(a.replace(')','')) \n",
    "Job_title[:10] "
   ]
  },
  {
   "cell_type": "code",
   "execution_count": 4,
   "id": "e5f931bf",
   "metadata": {},
   "outputs": [
    {
     "data": {
      "text/plain": [
       "['Bangalore/Bengaluru',\n",
       " 'Bangalore/Bengaluru',\n",
       " 'Gurgaon/Gurugram, Bangalore/Bengaluru, Mumbai All Areas',\n",
       " 'Bangalore/BengaluruUlsoor',\n",
       " 'Bangalore/Bengaluru',\n",
       " 'Bangalore/Bengaluru',\n",
       " 'Bangalore/Bengaluru',\n",
       " 'Bangalore/Bengaluru',\n",
       " 'Bangalore/Bengaluru',\n",
       " 'Noida, Mumbai, Indore, Hyderabad/Secunderabad, Pune, Chennai, Bangalore/Bengaluru']"
      ]
     },
     "execution_count": 4,
     "metadata": {},
     "output_type": "execute_result"
    }
   ],
   "source": [
    "Loc=driver.find_elements_by_xpath(\"//li[@class='fleft grey-text br2 placeHolderLi location']//span\")\n",
    "Location = [] #empty list\n",
    "for j in Loc:\n",
    "    b=j.text.replace('(','')\n",
    "    Location.append(b.replace(')','')) \n",
    "Location[:10]"
   ]
  },
  {
   "cell_type": "code",
   "execution_count": 5,
   "id": "4979d459",
   "metadata": {},
   "outputs": [
    {
     "data": {
      "text/plain": [
       "['3-5 Yrs',\n",
       " '3-5 Yrs',\n",
       " '1-4 Yrs',\n",
       " '4-8 Yrs',\n",
       " '5-9 Yrs',\n",
       " '3-5 Yrs',\n",
       " '2-5 Yrs',\n",
       " '3-5 Yrs',\n",
       " '6-8 Yrs',\n",
       " '6-10 Yrs']"
      ]
     },
     "execution_count": 5,
     "metadata": {},
     "output_type": "execute_result"
    }
   ],
   "source": [
    "Exp=driver.find_elements_by_xpath(\"//li[@class='fleft grey-text br2 placeHolderLi experience']\")\n",
    "Experience = [] #empty list\n",
    "for j in Exp:\n",
    "    b=j.text.replace('(','')\n",
    "    Experience.append(b.replace(')','')) \n",
    "Experience[:10]\n"
   ]
  },
  {
   "cell_type": "code",
   "execution_count": 6,
   "id": "6e6b1806",
   "metadata": {},
   "outputs": [
    {
     "data": {
      "text/plain": [
       "['Trigent Software',\n",
       " 'Trigent Software',\n",
       " 'India Medtronic Pvt. Ltd,.',\n",
       " 'WEIWO Communication Pvt. Ltd.',\n",
       " 'GCC SERVICES INDIA PRIVATE LIMITED',\n",
       " 'AECOM India Private Limited',\n",
       " 'Allegis Services India Pvt. Ltd.',\n",
       " 'Allegis Services India Pvt. Ltd.',\n",
       " 'Enzen Global Solutions Pvt. Ltd',\n",
       " 'Pronto Consulting Services']"
      ]
     },
     "execution_count": 6,
     "metadata": {},
     "output_type": "execute_result"
    }
   ],
   "source": [
    "Comp=driver.find_elements_by_xpath(\"//a[@class='subTitle ellipsis fleft']\")\n",
    "Company= [] #empty list\n",
    "for j in Comp:\n",
    "    b=j.text.replace('(','')\n",
    "    Company.append(b.replace(')','')) \n",
    "Company[:10]"
   ]
  },
  {
   "cell_type": "code",
   "execution_count": 7,
   "id": "452e7234",
   "metadata": {},
   "outputs": [
    {
     "data": {
      "text/html": [
       "<div>\n",
       "<style scoped>\n",
       "    .dataframe tbody tr th:only-of-type {\n",
       "        vertical-align: middle;\n",
       "    }\n",
       "\n",
       "    .dataframe tbody tr th {\n",
       "        vertical-align: top;\n",
       "    }\n",
       "\n",
       "    .dataframe thead th {\n",
       "        text-align: right;\n",
       "    }\n",
       "</style>\n",
       "<table border=\"1\" class=\"dataframe\">\n",
       "  <thead>\n",
       "    <tr style=\"text-align: right;\">\n",
       "      <th></th>\n",
       "      <th>Job Title</th>\n",
       "      <th>Location</th>\n",
       "      <th>Company Name</th>\n",
       "      <th>Experience</th>\n",
       "    </tr>\n",
       "  </thead>\n",
       "  <tbody>\n",
       "    <tr>\n",
       "      <th>0</th>\n",
       "      <td>Business Data Analyst</td>\n",
       "      <td>Bangalore/Bengaluru</td>\n",
       "      <td>Trigent Software</td>\n",
       "      <td>3-5 Yrs</td>\n",
       "    </tr>\n",
       "    <tr>\n",
       "      <th>1</th>\n",
       "      <td>Business Data Analyst</td>\n",
       "      <td>Bangalore/Bengaluru</td>\n",
       "      <td>Trigent Software</td>\n",
       "      <td>3-5 Yrs</td>\n",
       "    </tr>\n",
       "    <tr>\n",
       "      <th>2</th>\n",
       "      <td>Data Analyst/Business Analyst-Gurgaon/Bangalor...</td>\n",
       "      <td>Gurgaon/Gurugram, Bangalore/Bengaluru, Mumbai ...</td>\n",
       "      <td>India Medtronic Pvt. Ltd,.</td>\n",
       "      <td>1-4 Yrs</td>\n",
       "    </tr>\n",
       "    <tr>\n",
       "      <th>3</th>\n",
       "      <td>Data Analyst</td>\n",
       "      <td>Bangalore/BengaluruUlsoor</td>\n",
       "      <td>WEIWO Communication Pvt. Ltd.</td>\n",
       "      <td>4-8 Yrs</td>\n",
       "    </tr>\n",
       "    <tr>\n",
       "      <th>4</th>\n",
       "      <td>Data Analyst</td>\n",
       "      <td>Bangalore/Bengaluru</td>\n",
       "      <td>GCC SERVICES INDIA PRIVATE LIMITED</td>\n",
       "      <td>5-9 Yrs</td>\n",
       "    </tr>\n",
       "    <tr>\n",
       "      <th>5</th>\n",
       "      <td>Systems and Data Analyst, Safety and Provisioning</td>\n",
       "      <td>Bangalore/Bengaluru</td>\n",
       "      <td>AECOM India Private Limited</td>\n",
       "      <td>3-5 Yrs</td>\n",
       "    </tr>\n",
       "    <tr>\n",
       "      <th>6</th>\n",
       "      <td>Data Analyst</td>\n",
       "      <td>Bangalore/Bengaluru</td>\n",
       "      <td>Allegis Services India Pvt. Ltd.</td>\n",
       "      <td>2-5 Yrs</td>\n",
       "    </tr>\n",
       "    <tr>\n",
       "      <th>7</th>\n",
       "      <td>Data Analyst</td>\n",
       "      <td>Bangalore/Bengaluru</td>\n",
       "      <td>Allegis Services India Pvt. Ltd.</td>\n",
       "      <td>3-5 Yrs</td>\n",
       "    </tr>\n",
       "    <tr>\n",
       "      <th>8</th>\n",
       "      <td>Data Analyst</td>\n",
       "      <td>Bangalore/Bengaluru</td>\n",
       "      <td>Enzen Global Solutions Pvt. Ltd</td>\n",
       "      <td>6-8 Yrs</td>\n",
       "    </tr>\n",
       "    <tr>\n",
       "      <th>9</th>\n",
       "      <td>Senior Data Analyst - SQL/Tableau/Redshift</td>\n",
       "      <td>Noida, Mumbai, Indore, Hyderabad/Secunderabad,...</td>\n",
       "      <td>Pronto Consulting Services</td>\n",
       "      <td>6-10 Yrs</td>\n",
       "    </tr>\n",
       "  </tbody>\n",
       "</table>\n",
       "</div>"
      ],
      "text/plain": [
       "                                           Job Title  \\\n",
       "0                              Business Data Analyst   \n",
       "1                              Business Data Analyst   \n",
       "2  Data Analyst/Business Analyst-Gurgaon/Bangalor...   \n",
       "3                                       Data Analyst   \n",
       "4                                       Data Analyst   \n",
       "5  Systems and Data Analyst, Safety and Provisioning   \n",
       "6                                       Data Analyst   \n",
       "7                                       Data Analyst   \n",
       "8                                       Data Analyst   \n",
       "9         Senior Data Analyst - SQL/Tableau/Redshift   \n",
       "\n",
       "                                            Location  \\\n",
       "0                                Bangalore/Bengaluru   \n",
       "1                                Bangalore/Bengaluru   \n",
       "2  Gurgaon/Gurugram, Bangalore/Bengaluru, Mumbai ...   \n",
       "3                          Bangalore/BengaluruUlsoor   \n",
       "4                                Bangalore/Bengaluru   \n",
       "5                                Bangalore/Bengaluru   \n",
       "6                                Bangalore/Bengaluru   \n",
       "7                                Bangalore/Bengaluru   \n",
       "8                                Bangalore/Bengaluru   \n",
       "9  Noida, Mumbai, Indore, Hyderabad/Secunderabad,...   \n",
       "\n",
       "                         Company Name Experience  \n",
       "0                    Trigent Software    3-5 Yrs  \n",
       "1                    Trigent Software    3-5 Yrs  \n",
       "2          India Medtronic Pvt. Ltd,.    1-4 Yrs  \n",
       "3       WEIWO Communication Pvt. Ltd.    4-8 Yrs  \n",
       "4  GCC SERVICES INDIA PRIVATE LIMITED    5-9 Yrs  \n",
       "5         AECOM India Private Limited    3-5 Yrs  \n",
       "6    Allegis Services India Pvt. Ltd.    2-5 Yrs  \n",
       "7    Allegis Services India Pvt. Ltd.    3-5 Yrs  \n",
       "8     Enzen Global Solutions Pvt. Ltd    6-8 Yrs  \n",
       "9          Pronto Consulting Services   6-10 Yrs  "
      ]
     },
     "execution_count": 7,
     "metadata": {},
     "output_type": "execute_result"
    }
   ],
   "source": [
    "Naukri=pd.DataFrame({})\n",
    "Naukri['Job Title']=Job_title[:10]\n",
    "Naukri['Location']=Location[:10]\n",
    "Naukri['Company Name']=Company[:10] \n",
    "Naukri['Experience']=Experience[:10]\n",
    "\n",
    "Naukri"
   ]
  },
  {
   "cell_type": "code",
   "execution_count": 17,
   "id": "3f8814ca",
   "metadata": {},
   "outputs": [],
   "source": [
    "driver = webdriver.Chrome(\"chromedriver.exe\")\n",
    "url=\"https://www.naukri.com/\"\n",
    "driver.get(url)\n",
    "search_job= driver.find_element_by_id('qsb-keyword-sugg')\n",
    "search_job.send_keys(\"Data Scientist\")\n",
    "location= driver.find_element_by_id('qsb-location-sugg')\n",
    "location.send_keys(\"Banglore\")\n",
    "Button=driver.find_element_by_xpath(\"//button[@class='btn']\")\n",
    "Button.click()"
   ]
  },
  {
   "cell_type": "code",
   "execution_count": 24,
   "id": "935dea62",
   "metadata": {},
   "outputs": [
    {
     "data": {
      "text/plain": [
       "['Senior Data Scientist',\n",
       " 'Senior Data Scientist',\n",
       " 'Senior Data Scientist',\n",
       " 'Senior Data Scientist',\n",
       " 'Senior Data Scientist',\n",
       " 'Data Scientist - Permanent Role',\n",
       " 'Data Engineers , Data Scientist and SAP',\n",
       " 'Python - Data Scientist',\n",
       " 'Western Digital Data Scientist 3',\n",
       " 'Western Digital Data Scientist']"
      ]
     },
     "execution_count": 24,
     "metadata": {},
     "output_type": "execute_result"
    }
   ],
   "source": [
    "Job=driver.find_elements_by_xpath(\"//a[@class='title fw500 ellipsis']\")\n",
    "Job_title = [] #empty list\n",
    "for i in Job:\n",
    "    a=i.text.replace('(','')\n",
    "    Job_title.append(a.replace(')','')) \n",
    "Job_title[:10]  "
   ]
  },
  {
   "cell_type": "code",
   "execution_count": 25,
   "id": "52fcae31",
   "metadata": {},
   "outputs": [
    {
     "data": {
      "text/plain": [
       "['Bangalore/Bengaluru',\n",
       " 'Bangalore/Bengaluru',\n",
       " 'Bangalore/Bengaluru',\n",
       " 'Bangalore/Bengaluru',\n",
       " 'New Delhi, Bangalore/Bengaluru, Delhi / NCR',\n",
       " 'WFH during Covid',\n",
       " 'Hyderabad/Secunderabad, Chennai, Bangalore/Bengaluru',\n",
       " 'Bangalore/Bengaluru',\n",
       " 'Bangalore/Bengaluru',\n",
       " 'Bangalore/Bengaluru']"
      ]
     },
     "execution_count": 25,
     "metadata": {},
     "output_type": "execute_result"
    }
   ],
   "source": [
    "Loc=driver.find_elements_by_xpath(\"//li[@class='fleft grey-text br2 placeHolderLi location']//span\")\n",
    "Location = [] #empty list\n",
    "for j in Loc:\n",
    "    b=j.text.replace('(','')\n",
    "    Location.append(b.replace(')','')) \n",
    "Location[:10]\n"
   ]
  },
  {
   "cell_type": "code",
   "execution_count": 26,
   "id": "8b10d943",
   "metadata": {},
   "outputs": [
    {
     "data": {
      "text/plain": [
       "['SYMBIOSIS International W.L.L',\n",
       " 'Datamatics Global Services Ltd',\n",
       " 'Publicis Groupe',\n",
       " 'Bidgely Technologies Private Limited',\n",
       " 'Goals 101 Data Solutions Pvt. Ltd.',\n",
       " 'Onward Technologies Limited',\n",
       " 'Teamware Solutions',\n",
       " 'Mindtree Limited',\n",
       " 'Western Digital',\n",
       " 'Western Digital']"
      ]
     },
     "execution_count": 26,
     "metadata": {},
     "output_type": "execute_result"
    }
   ],
   "source": [
    "Comp=driver.find_elements_by_xpath(\"//a[@class='subTitle ellipsis fleft']\")\n",
    "Company= [] #empty list\n",
    "for j in Comp:\n",
    "    b=j.text.replace('(','')\n",
    "    Company.append(b.replace(')','')) \n",
    "Company[:10]"
   ]
  },
  {
   "cell_type": "code",
   "execution_count": 27,
   "id": "ba503171",
   "metadata": {},
   "outputs": [
    {
     "data": {
      "text/plain": [
       "[<selenium.webdriver.remote.webelement.WebElement (session=\"68f17169a05af4ee9a31f9377305f5d2\", element=\"41b526f4-d9e5-4204-9429-5d7ca7bd7ed9\")>,\n",
       " <selenium.webdriver.remote.webelement.WebElement (session=\"68f17169a05af4ee9a31f9377305f5d2\", element=\"e898bac4-a5bc-49bc-99fc-80962d545e8e\")>,\n",
       " <selenium.webdriver.remote.webelement.WebElement (session=\"68f17169a05af4ee9a31f9377305f5d2\", element=\"6eb6d189-510a-4b04-a8ab-ec2023723e5a\")>,\n",
       " <selenium.webdriver.remote.webelement.WebElement (session=\"68f17169a05af4ee9a31f9377305f5d2\", element=\"18256bbf-7ca6-4b12-aa60-e9658c5cfa94\")>,\n",
       " <selenium.webdriver.remote.webelement.WebElement (session=\"68f17169a05af4ee9a31f9377305f5d2\", element=\"315a1f8d-d149-42fe-8a31-2df7a433603b\")>,\n",
       " <selenium.webdriver.remote.webelement.WebElement (session=\"68f17169a05af4ee9a31f9377305f5d2\", element=\"84ab9d23-f26a-4364-98ec-bbac73f5f393\")>,\n",
       " <selenium.webdriver.remote.webelement.WebElement (session=\"68f17169a05af4ee9a31f9377305f5d2\", element=\"ccc09966-2f2a-4ed1-a36a-a969d5f2f9c3\")>,\n",
       " <selenium.webdriver.remote.webelement.WebElement (session=\"68f17169a05af4ee9a31f9377305f5d2\", element=\"b00af2c7-d71f-43d1-bbca-03d1fbebd921\")>,\n",
       " <selenium.webdriver.remote.webelement.WebElement (session=\"68f17169a05af4ee9a31f9377305f5d2\", element=\"3d4b4b2f-dcc3-492b-b614-b048985294a5\")>,\n",
       " <selenium.webdriver.remote.webelement.WebElement (session=\"68f17169a05af4ee9a31f9377305f5d2\", element=\"f94a6fe5-189c-4f51-97f2-49c3c368fde9\")>,\n",
       " <selenium.webdriver.remote.webelement.WebElement (session=\"68f17169a05af4ee9a31f9377305f5d2\", element=\"46dc8b73-a2fc-490d-9515-6cdb0b831248\")>,\n",
       " <selenium.webdriver.remote.webelement.WebElement (session=\"68f17169a05af4ee9a31f9377305f5d2\", element=\"f9bdbca5-4384-4b6c-81d7-01addadb50e9\")>,\n",
       " <selenium.webdriver.remote.webelement.WebElement (session=\"68f17169a05af4ee9a31f9377305f5d2\", element=\"76eb9128-f6bc-430d-b1ae-ba8fc75d6614\")>,\n",
       " <selenium.webdriver.remote.webelement.WebElement (session=\"68f17169a05af4ee9a31f9377305f5d2\", element=\"76799da1-c7d7-45f2-b4ef-c4eb39fca6a2\")>,\n",
       " <selenium.webdriver.remote.webelement.WebElement (session=\"68f17169a05af4ee9a31f9377305f5d2\", element=\"a8537a3c-1e14-4959-9152-114708bf5593\")>,\n",
       " <selenium.webdriver.remote.webelement.WebElement (session=\"68f17169a05af4ee9a31f9377305f5d2\", element=\"6e387153-18cd-40c1-ad19-ac503d83b0c9\")>,\n",
       " <selenium.webdriver.remote.webelement.WebElement (session=\"68f17169a05af4ee9a31f9377305f5d2\", element=\"d41b81bc-8ee4-4d0f-b0ff-c26bdfa2cf41\")>,\n",
       " <selenium.webdriver.remote.webelement.WebElement (session=\"68f17169a05af4ee9a31f9377305f5d2\", element=\"8bd7a384-324e-44fe-82f4-cfa6a97e0612\")>,\n",
       " <selenium.webdriver.remote.webelement.WebElement (session=\"68f17169a05af4ee9a31f9377305f5d2\", element=\"1f5f7226-ad6a-4ba5-8233-c72cae679249\")>,\n",
       " <selenium.webdriver.remote.webelement.WebElement (session=\"68f17169a05af4ee9a31f9377305f5d2\", element=\"587bd0f0-9202-41ac-8fd7-de22fc5bc5a3\")>]"
      ]
     },
     "execution_count": 27,
     "metadata": {},
     "output_type": "execute_result"
    }
   ],
   "source": [
    "url=driver.find_elements_by_xpath('//a[@class=\"title fw500 ellipsis\"]')\n",
    "url"
   ]
  },
  {
   "cell_type": "code",
   "execution_count": 28,
   "id": "b5070bd7",
   "metadata": {},
   "outputs": [
    {
     "data": {
      "text/plain": [
       "['https://www.naukri.com/job-listings-senior-data-scientist-symbiosis-international-w-l-l-bangalore-bengaluru-10-to-15-years-050821004331?src=jobsearchDesk&sid=16281773593022977&xp=1&px=1',\n",
       " 'https://www.naukri.com/job-listings-senior-data-scientist-datamatics-global-services-ltd-bangalore-bengaluru-8-to-13-years-040821003517?src=jobsearchDesk&sid=16281773593022977&xp=2&px=1',\n",
       " 'https://www.naukri.com/job-listings-senior-data-scientist-publicis-groupe-bangalore-bengaluru-2-to-5-years-030821501259?src=jobsearchDesk&sid=16281773593022977&xp=3&px=1',\n",
       " 'https://www.naukri.com/job-listings-senior-data-scientist-bidgely-technologies-private-limited-bangalore-bengaluru-4-to-6-years-030821500043?src=jobsearchDesk&sid=16281773593022977&xp=4&px=1',\n",
       " 'https://www.naukri.com/job-listings-senior-data-scientist-goals-101-data-solutions-pvt-ltd-new-delhi-bangalore-bengaluru-delhi-ncr-4-to-8-years-030821000870?src=jobsearchDesk&sid=16281773593022977&xp=5&px=1',\n",
       " 'https://www.naukri.com/job-listings-data-scientist-permanent-role-onward-technologies-limited-hyderabad-secunderabad-chennai-bangalore-bengaluru-6-to-11-years-030821002780?src=jobsearchDesk&sid=16281773593022977&xp=6&px=1',\n",
       " 'https://www.naukri.com/job-listings-data-engineers-data-scientist-and-sap-teamware-solutions-bangalore-bengaluru-7-to-10-years-300721500677?src=jobsearchDesk&sid=16281773593022977&xp=7&px=1',\n",
       " 'https://www.naukri.com/job-listings-python-data-scientist-mindtree-limited-bangalore-bengaluru-3-to-5-years-040821500207?src=jobsearchDesk&sid=16281773593022977&xp=8&px=1',\n",
       " 'https://www.naukri.com/job-listings-western-digital-data-scientist-3-western-digital-bangalore-bengaluru-4-to-5-years-030821500726?src=jobsearchDesk&sid=16281773593022977&xp=9&px=1',\n",
       " 'https://www.naukri.com/job-listings-western-digital-data-scientist-western-digital-bangalore-bengaluru-10-to-12-years-030821500725?src=jobsearchDesk&sid=16281773593022977&xp=10&px=1']"
      ]
     },
     "execution_count": 28,
     "metadata": {},
     "output_type": "execute_result"
    }
   ],
   "source": [
    "job_des_urls=[]\n",
    "url=driver.find_elements_by_xpath('//a[@class=\"title fw500 ellipsis\"]')\n",
    "for i in url:\n",
    "    job_des_urls.append(i.get_attribute('href'))\n",
    "job_des_urls[:10]    \n",
    "    "
   ]
  },
  {
   "cell_type": "code",
   "execution_count": 34,
   "id": "6fcc4ca8",
   "metadata": {},
   "outputs": [
    {
     "data": {
      "text/plain": [
       "[]"
      ]
     },
     "execution_count": 34,
     "metadata": {},
     "output_type": "execute_result"
    }
   ],
   "source": [
    "Job_description=[]\n",
    "for j in job_des_urls:\n",
    "    driver.get(j)\n",
    "    try:\n",
    "        job_title.click()\n",
    "        Job_description=driver.find_elements_by_xpath(\"//h1[@class='jd-header-title']\")\n",
    "        Job_description.append(Job_description.text)\n",
    "    except:\n",
    "        pass\n",
    "Job_description[:10]    "
   ]
  },
  {
   "cell_type": "code",
   "execution_count": 36,
   "id": "a20c2627",
   "metadata": {},
   "outputs": [
    {
     "ename": "ValueError",
     "evalue": "Length of values (0) does not match length of index (10)",
     "output_type": "error",
     "traceback": [
      "\u001b[1;31m---------------------------------------------------------------------------\u001b[0m",
      "\u001b[1;31mValueError\u001b[0m                                Traceback (most recent call last)",
      "\u001b[1;32m<ipython-input-36-f83ca6794ce7>\u001b[0m in \u001b[0;36m<module>\u001b[1;34m\u001b[0m\n\u001b[0;32m      3\u001b[0m \u001b[0mNaukri\u001b[0m\u001b[1;33m[\u001b[0m\u001b[1;34m'Location'\u001b[0m\u001b[1;33m]\u001b[0m\u001b[1;33m=\u001b[0m\u001b[0mLocation\u001b[0m\u001b[1;33m[\u001b[0m\u001b[1;33m:\u001b[0m\u001b[1;36m10\u001b[0m\u001b[1;33m]\u001b[0m\u001b[1;33m\u001b[0m\u001b[1;33m\u001b[0m\u001b[0m\n\u001b[0;32m      4\u001b[0m \u001b[0mNaukri\u001b[0m\u001b[1;33m[\u001b[0m\u001b[1;34m'Company Name'\u001b[0m\u001b[1;33m]\u001b[0m\u001b[1;33m=\u001b[0m\u001b[0mCompany\u001b[0m\u001b[1;33m[\u001b[0m\u001b[1;33m:\u001b[0m\u001b[1;36m10\u001b[0m\u001b[1;33m]\u001b[0m\u001b[1;33m\u001b[0m\u001b[1;33m\u001b[0m\u001b[0m\n\u001b[1;32m----> 5\u001b[1;33m \u001b[0mNaukri\u001b[0m\u001b[1;33m[\u001b[0m\u001b[1;34m'job description'\u001b[0m\u001b[1;33m]\u001b[0m\u001b[1;33m=\u001b[0m\u001b[0mJob_description\u001b[0m\u001b[1;33m[\u001b[0m\u001b[1;33m:\u001b[0m\u001b[1;36m0\u001b[0m\u001b[1;33m]\u001b[0m\u001b[1;33m\u001b[0m\u001b[1;33m\u001b[0m\u001b[0m\n\u001b[0m\u001b[0;32m      6\u001b[0m \u001b[1;33m\u001b[0m\u001b[0m\n\u001b[0;32m      7\u001b[0m \u001b[0mNaukri\u001b[0m\u001b[1;33m\u001b[0m\u001b[1;33m\u001b[0m\u001b[0m\n",
      "\u001b[1;32m~\\Anaconda3\\lib\\site-packages\\pandas\\core\\frame.py\u001b[0m in \u001b[0;36m__setitem__\u001b[1;34m(self, key, value)\u001b[0m\n\u001b[0;32m   3161\u001b[0m         \u001b[1;32melse\u001b[0m\u001b[1;33m:\u001b[0m\u001b[1;33m\u001b[0m\u001b[1;33m\u001b[0m\u001b[0m\n\u001b[0;32m   3162\u001b[0m             \u001b[1;31m# set column\u001b[0m\u001b[1;33m\u001b[0m\u001b[1;33m\u001b[0m\u001b[1;33m\u001b[0m\u001b[0m\n\u001b[1;32m-> 3163\u001b[1;33m             \u001b[0mself\u001b[0m\u001b[1;33m.\u001b[0m\u001b[0m_set_item\u001b[0m\u001b[1;33m(\u001b[0m\u001b[0mkey\u001b[0m\u001b[1;33m,\u001b[0m \u001b[0mvalue\u001b[0m\u001b[1;33m)\u001b[0m\u001b[1;33m\u001b[0m\u001b[1;33m\u001b[0m\u001b[0m\n\u001b[0m\u001b[0;32m   3164\u001b[0m \u001b[1;33m\u001b[0m\u001b[0m\n\u001b[0;32m   3165\u001b[0m     \u001b[1;32mdef\u001b[0m \u001b[0m_setitem_slice\u001b[0m\u001b[1;33m(\u001b[0m\u001b[0mself\u001b[0m\u001b[1;33m,\u001b[0m \u001b[0mkey\u001b[0m\u001b[1;33m:\u001b[0m \u001b[0mslice\u001b[0m\u001b[1;33m,\u001b[0m \u001b[0mvalue\u001b[0m\u001b[1;33m)\u001b[0m\u001b[1;33m:\u001b[0m\u001b[1;33m\u001b[0m\u001b[1;33m\u001b[0m\u001b[0m\n",
      "\u001b[1;32m~\\Anaconda3\\lib\\site-packages\\pandas\\core\\frame.py\u001b[0m in \u001b[0;36m_set_item\u001b[1;34m(self, key, value)\u001b[0m\n\u001b[0;32m   3240\u001b[0m         \"\"\"\n\u001b[0;32m   3241\u001b[0m         \u001b[0mself\u001b[0m\u001b[1;33m.\u001b[0m\u001b[0m_ensure_valid_index\u001b[0m\u001b[1;33m(\u001b[0m\u001b[0mvalue\u001b[0m\u001b[1;33m)\u001b[0m\u001b[1;33m\u001b[0m\u001b[1;33m\u001b[0m\u001b[0m\n\u001b[1;32m-> 3242\u001b[1;33m         \u001b[0mvalue\u001b[0m \u001b[1;33m=\u001b[0m \u001b[0mself\u001b[0m\u001b[1;33m.\u001b[0m\u001b[0m_sanitize_column\u001b[0m\u001b[1;33m(\u001b[0m\u001b[0mkey\u001b[0m\u001b[1;33m,\u001b[0m \u001b[0mvalue\u001b[0m\u001b[1;33m)\u001b[0m\u001b[1;33m\u001b[0m\u001b[1;33m\u001b[0m\u001b[0m\n\u001b[0m\u001b[0;32m   3243\u001b[0m         \u001b[0mNDFrame\u001b[0m\u001b[1;33m.\u001b[0m\u001b[0m_set_item\u001b[0m\u001b[1;33m(\u001b[0m\u001b[0mself\u001b[0m\u001b[1;33m,\u001b[0m \u001b[0mkey\u001b[0m\u001b[1;33m,\u001b[0m \u001b[0mvalue\u001b[0m\u001b[1;33m)\u001b[0m\u001b[1;33m\u001b[0m\u001b[1;33m\u001b[0m\u001b[0m\n\u001b[0;32m   3244\u001b[0m \u001b[1;33m\u001b[0m\u001b[0m\n",
      "\u001b[1;32m~\\Anaconda3\\lib\\site-packages\\pandas\\core\\frame.py\u001b[0m in \u001b[0;36m_sanitize_column\u001b[1;34m(self, key, value, broadcast)\u001b[0m\n\u001b[0;32m   3897\u001b[0m \u001b[1;33m\u001b[0m\u001b[0m\n\u001b[0;32m   3898\u001b[0m             \u001b[1;31m# turn me into an ndarray\u001b[0m\u001b[1;33m\u001b[0m\u001b[1;33m\u001b[0m\u001b[1;33m\u001b[0m\u001b[0m\n\u001b[1;32m-> 3899\u001b[1;33m             \u001b[0mvalue\u001b[0m \u001b[1;33m=\u001b[0m \u001b[0msanitize_index\u001b[0m\u001b[1;33m(\u001b[0m\u001b[0mvalue\u001b[0m\u001b[1;33m,\u001b[0m \u001b[0mself\u001b[0m\u001b[1;33m.\u001b[0m\u001b[0mindex\u001b[0m\u001b[1;33m)\u001b[0m\u001b[1;33m\u001b[0m\u001b[1;33m\u001b[0m\u001b[0m\n\u001b[0m\u001b[0;32m   3900\u001b[0m             \u001b[1;32mif\u001b[0m \u001b[1;32mnot\u001b[0m \u001b[0misinstance\u001b[0m\u001b[1;33m(\u001b[0m\u001b[0mvalue\u001b[0m\u001b[1;33m,\u001b[0m \u001b[1;33m(\u001b[0m\u001b[0mnp\u001b[0m\u001b[1;33m.\u001b[0m\u001b[0mndarray\u001b[0m\u001b[1;33m,\u001b[0m \u001b[0mIndex\u001b[0m\u001b[1;33m)\u001b[0m\u001b[1;33m)\u001b[0m\u001b[1;33m:\u001b[0m\u001b[1;33m\u001b[0m\u001b[1;33m\u001b[0m\u001b[0m\n\u001b[0;32m   3901\u001b[0m                 \u001b[1;32mif\u001b[0m \u001b[0misinstance\u001b[0m\u001b[1;33m(\u001b[0m\u001b[0mvalue\u001b[0m\u001b[1;33m,\u001b[0m \u001b[0mlist\u001b[0m\u001b[1;33m)\u001b[0m \u001b[1;32mand\u001b[0m \u001b[0mlen\u001b[0m\u001b[1;33m(\u001b[0m\u001b[0mvalue\u001b[0m\u001b[1;33m)\u001b[0m \u001b[1;33m>\u001b[0m \u001b[1;36m0\u001b[0m\u001b[1;33m:\u001b[0m\u001b[1;33m\u001b[0m\u001b[1;33m\u001b[0m\u001b[0m\n",
      "\u001b[1;32m~\\Anaconda3\\lib\\site-packages\\pandas\\core\\internals\\construction.py\u001b[0m in \u001b[0;36msanitize_index\u001b[1;34m(data, index)\u001b[0m\n\u001b[0;32m    749\u001b[0m     \"\"\"\n\u001b[0;32m    750\u001b[0m     \u001b[1;32mif\u001b[0m \u001b[0mlen\u001b[0m\u001b[1;33m(\u001b[0m\u001b[0mdata\u001b[0m\u001b[1;33m)\u001b[0m \u001b[1;33m!=\u001b[0m \u001b[0mlen\u001b[0m\u001b[1;33m(\u001b[0m\u001b[0mindex\u001b[0m\u001b[1;33m)\u001b[0m\u001b[1;33m:\u001b[0m\u001b[1;33m\u001b[0m\u001b[1;33m\u001b[0m\u001b[0m\n\u001b[1;32m--> 751\u001b[1;33m         raise ValueError(\n\u001b[0m\u001b[0;32m    752\u001b[0m             \u001b[1;34m\"Length of values \"\u001b[0m\u001b[1;33m\u001b[0m\u001b[1;33m\u001b[0m\u001b[0m\n\u001b[0;32m    753\u001b[0m             \u001b[1;34mf\"({len(data)}) \"\u001b[0m\u001b[1;33m\u001b[0m\u001b[1;33m\u001b[0m\u001b[0m\n",
      "\u001b[1;31mValueError\u001b[0m: Length of values (0) does not match length of index (10)"
     ]
    }
   ],
   "source": [
    "Naukri=pd.DataFrame({})\n",
    "Naukri['Job Title']=Job_title[:10]\n",
    "Naukri['Location']=Location[:10]\n",
    "Naukri['Company Name']=Company[:10] \n",
    "Naukri['job description']=Job_description[:10]\n",
    "\n",
    "Naukri"
   ]
  },
  {
   "cell_type": "code",
   "execution_count": 37,
   "id": "ef8f0031",
   "metadata": {},
   "outputs": [],
   "source": [
    "driver = webdriver.Chrome(\"chromedriver.exe\")\n",
    "url=\"https://www.naukri.com/\"\n",
    "driver.get(url)\n",
    "search_job= driver.find_element_by_id('qsb-keyword-sugg')\n",
    "search_job.send_keys(\"Data Scientist\")\n",
    "Button=driver.find_element_by_xpath(\"//button[@class='btn']\")\n",
    "Button.click()"
   ]
  },
  {
   "cell_type": "code",
   "execution_count": 38,
   "id": "38cad479",
   "metadata": {},
   "outputs": [],
   "source": [
    "location= driver.find_element_by_xpath(\"/html/body/div[1]/div[3]/div[2]/section[1]/div[2]/div[3]/div[2]/div[3]/label/i\")\n",
    "location.click()"
   ]
  },
  {
   "cell_type": "code",
   "execution_count": 39,
   "id": "78463a47",
   "metadata": {},
   "outputs": [],
   "source": [
    "salary=driver.find_element_by_xpath('/html/body/div[1]/div[3]/div[2]/section[1]/div[2]/div[4]/div[2]/div[2]/label/i')\n",
    "salary.click()"
   ]
  },
  {
   "cell_type": "code",
   "execution_count": 40,
   "id": "4e4ea29c",
   "metadata": {},
   "outputs": [
    {
     "data": {
      "text/html": [
       "<div>\n",
       "<style scoped>\n",
       "    .dataframe tbody tr th:only-of-type {\n",
       "        vertical-align: middle;\n",
       "    }\n",
       "\n",
       "    .dataframe tbody tr th {\n",
       "        vertical-align: top;\n",
       "    }\n",
       "\n",
       "    .dataframe thead th {\n",
       "        text-align: right;\n",
       "    }\n",
       "</style>\n",
       "<table border=\"1\" class=\"dataframe\">\n",
       "  <thead>\n",
       "    <tr style=\"text-align: right;\">\n",
       "      <th></th>\n",
       "      <th>Job Title</th>\n",
       "      <th>Location</th>\n",
       "      <th>Company Name</th>\n",
       "      <th>Experience</th>\n",
       "    </tr>\n",
       "  </thead>\n",
       "  <tbody>\n",
       "    <tr>\n",
       "      <th>0</th>\n",
       "      <td>Senior Data Scientist - Noida</td>\n",
       "      <td>Noida</td>\n",
       "      <td>Optum Global Solutions India Private Limited</td>\n",
       "      <td>2-6 Yrs</td>\n",
       "    </tr>\n",
       "    <tr>\n",
       "      <th>1</th>\n",
       "      <td>Data Scientist / Data Analyst</td>\n",
       "      <td>Gurgaon/Gurugram</td>\n",
       "      <td>CARS24</td>\n",
       "      <td>1-5 Yrs</td>\n",
       "    </tr>\n",
       "    <tr>\n",
       "      <th>2</th>\n",
       "      <td>Only Fresher / Data Scientist / Data Analyst /...</td>\n",
       "      <td>Noida, Gurgaon/Gurugram, Delhi / NCR</td>\n",
       "      <td>GABA Consultancy services</td>\n",
       "      <td>0-0 Yrs</td>\n",
       "    </tr>\n",
       "    <tr>\n",
       "      <th>3</th>\n",
       "      <td>Immediate Openings For DATA Scientist with 6 T...</td>\n",
       "      <td>Kolkata, Hyderabad/Secunderabad, Pune, Ahmedab...</td>\n",
       "      <td>Entune IT Consulting Private Limited</td>\n",
       "      <td>5-8 Yrs</td>\n",
       "    </tr>\n",
       "    <tr>\n",
       "      <th>4</th>\n",
       "      <td>Data Scientist</td>\n",
       "      <td>WFH during Covid</td>\n",
       "      <td>Decimal Technologies Pvt Ltd.</td>\n",
       "      <td>1-3 Yrs</td>\n",
       "    </tr>\n",
       "    <tr>\n",
       "      <th>5</th>\n",
       "      <td>Senior Data Scientist</td>\n",
       "      <td>Gurgaon/Gurugram</td>\n",
       "      <td>inVentiv International Pharma Services Pvt. Ltd.</td>\n",
       "      <td>3-6 Yrs</td>\n",
       "    </tr>\n",
       "    <tr>\n",
       "      <th>6</th>\n",
       "      <td>Data Scientist/Data Analyst /Business Analyst</td>\n",
       "      <td>Hyderabad/Secunderabad, Gurgaon/Gurugram, Bang...</td>\n",
       "      <td>Inflexion Analytix Private Limited</td>\n",
       "      <td>0-3 Yrs</td>\n",
       "    </tr>\n",
       "    <tr>\n",
       "      <th>7</th>\n",
       "      <td>Data Scientist - Machine Learning/NLP</td>\n",
       "      <td>Pune, Delhi / NCR, Mumbai All Areas</td>\n",
       "      <td>TalPro</td>\n",
       "      <td>2-6 Yrs</td>\n",
       "    </tr>\n",
       "    <tr>\n",
       "      <th>8</th>\n",
       "      <td>Data Scientist - Machine Learning/NLP</td>\n",
       "      <td>Gurgaon/Gurugram</td>\n",
       "      <td>TalPro</td>\n",
       "      <td>2-4 Yrs</td>\n",
       "    </tr>\n",
       "    <tr>\n",
       "      <th>9</th>\n",
       "      <td>Hiring Data Scientist Develope || IDS Infotech...</td>\n",
       "      <td>Gurgaon/Gurugram</td>\n",
       "      <td>IDS Infotech Ltd.</td>\n",
       "      <td>5-10 Yrs</td>\n",
       "    </tr>\n",
       "  </tbody>\n",
       "</table>\n",
       "</div>"
      ],
      "text/plain": [
       "                                           Job Title  \\\n",
       "0                      Senior Data Scientist - Noida   \n",
       "1                      Data Scientist / Data Analyst   \n",
       "2  Only Fresher / Data Scientist / Data Analyst /...   \n",
       "3  Immediate Openings For DATA Scientist with 6 T...   \n",
       "4                                     Data Scientist   \n",
       "5                              Senior Data Scientist   \n",
       "6      Data Scientist/Data Analyst /Business Analyst   \n",
       "7              Data Scientist - Machine Learning/NLP   \n",
       "8              Data Scientist - Machine Learning/NLP   \n",
       "9  Hiring Data Scientist Develope || IDS Infotech...   \n",
       "\n",
       "                                            Location  \\\n",
       "0                                              Noida   \n",
       "1                                   Gurgaon/Gurugram   \n",
       "2               Noida, Gurgaon/Gurugram, Delhi / NCR   \n",
       "3  Kolkata, Hyderabad/Secunderabad, Pune, Ahmedab...   \n",
       "4                                   WFH during Covid   \n",
       "5                                   Gurgaon/Gurugram   \n",
       "6  Hyderabad/Secunderabad, Gurgaon/Gurugram, Bang...   \n",
       "7                Pune, Delhi / NCR, Mumbai All Areas   \n",
       "8                                   Gurgaon/Gurugram   \n",
       "9                                   Gurgaon/Gurugram   \n",
       "\n",
       "                                       Company Name Experience  \n",
       "0      Optum Global Solutions India Private Limited    2-6 Yrs  \n",
       "1                                            CARS24    1-5 Yrs  \n",
       "2                         GABA Consultancy services    0-0 Yrs  \n",
       "3              Entune IT Consulting Private Limited    5-8 Yrs  \n",
       "4                     Decimal Technologies Pvt Ltd.    1-3 Yrs  \n",
       "5  inVentiv International Pharma Services Pvt. Ltd.    3-6 Yrs  \n",
       "6                Inflexion Analytix Private Limited    0-3 Yrs  \n",
       "7                                            TalPro    2-6 Yrs  \n",
       "8                                            TalPro    2-4 Yrs  \n",
       "9                                 IDS Infotech Ltd.   5-10 Yrs  "
      ]
     },
     "execution_count": 40,
     "metadata": {},
     "output_type": "execute_result"
    }
   ],
   "source": [
    "Job=driver.find_elements_by_xpath(\"//a[@class='title fw500 ellipsis']\")\n",
    "Job_title = [] #empty list\n",
    "for i in Job:\n",
    "    a=i.text.replace('(','')\n",
    "    Job_title.append(a.replace(')','')) \n",
    "Job_title[:10]  \n",
    "\n",
    "Loc=driver.find_elements_by_xpath(\"//li[@class='fleft grey-text br2 placeHolderLi location']//span\")\n",
    "Location = [] #empty list\n",
    "for j in Loc:\n",
    "    b=j.text.replace('(','')\n",
    "    Location.append(b.replace(')','')) \n",
    "Location[:10]\n",
    "\n",
    "Exp=driver.find_elements_by_xpath(\"//li[@class='fleft grey-text br2 placeHolderLi experience']\")\n",
    "Experience = [] #empty list\n",
    "for j in Exp:\n",
    "    b=j.text.replace('(','')\n",
    "    Experience.append(b.replace(')','')) \n",
    "Experience[:10]\n",
    "\n",
    "\n",
    "Comp=driver.find_elements_by_xpath(\"//a[@class='subTitle ellipsis fleft']\")\n",
    "Company= [] #empty list\n",
    "for j in Comp:\n",
    "    b=j.text.replace('(','')\n",
    "    Company.append(b.replace(')','')) \n",
    "Company[:10]\n",
    "\n",
    "Naukri=pd.DataFrame({})\n",
    "Naukri['Job Title']=Job_title[:10]\n",
    "Naukri['Location']=Location[:10]\n",
    "Naukri['Company Name']=Company[:10] \n",
    "Naukri['Experience']=Experience[:10]\n",
    "\n",
    "Naukri"
   ]
  },
  {
   "cell_type": "code",
   "execution_count": 3,
   "id": "c7afd083",
   "metadata": {},
   "outputs": [],
   "source": [
    "driver = webdriver.Chrome(\"chromedriver.exe\")\n",
    "url=\" https://www.flipkart.com/\"\n",
    "driver.get(url)\n",
    "Button=driver.find_element_by_xpath(\"//button[@class='_2KpZ6l _2doB4z']\")\n",
    "Button.click()"
   ]
  },
  {
   "cell_type": "code",
   "execution_count": 4,
   "id": "4cea5ef0",
   "metadata": {},
   "outputs": [],
   "source": [
    "search_job= driver.find_element_by_xpath('/html/body/div[1]/div/div[1]/div[1]/div[2]/div[2]/form/div/div/input')\n",
    "search_job.send_keys(\"sunglasses\")\n"
   ]
  },
  {
   "cell_type": "code",
   "execution_count": 5,
   "id": "6ebb9db7",
   "metadata": {},
   "outputs": [],
   "source": [
    "Button=driver.find_element_by_xpath(\"//button[@class='L0Z3Pu']\")\n",
    "Button.click()"
   ]
  },
  {
   "cell_type": "code",
   "execution_count": 6,
   "id": "ae3cd362",
   "metadata": {},
   "outputs": [
    {
     "data": {
      "text/plain": [
       "[<selenium.webdriver.remote.webelement.WebElement (session=\"2ecd103a08f04f00f2e7122861800a5e\", element=\"08ea3340-1807-4511-9bad-26bad1bbbbde\")>,\n",
       " <selenium.webdriver.remote.webelement.WebElement (session=\"2ecd103a08f04f00f2e7122861800a5e\", element=\"0fff9f49-9ba7-4a8f-800a-1e31e9a74b6c\")>,\n",
       " <selenium.webdriver.remote.webelement.WebElement (session=\"2ecd103a08f04f00f2e7122861800a5e\", element=\"2bc734f2-7c08-483d-b922-03aee1c5f233\")>,\n",
       " <selenium.webdriver.remote.webelement.WebElement (session=\"2ecd103a08f04f00f2e7122861800a5e\", element=\"f743573b-04d7-4a79-aea2-f1ca4447cc72\")>,\n",
       " <selenium.webdriver.remote.webelement.WebElement (session=\"2ecd103a08f04f00f2e7122861800a5e\", element=\"33388695-9f96-40fe-aca2-b4b33d6a1a1d\")>,\n",
       " <selenium.webdriver.remote.webelement.WebElement (session=\"2ecd103a08f04f00f2e7122861800a5e\", element=\"841a7859-0393-44e6-99cc-8a90e593b1d6\")>,\n",
       " <selenium.webdriver.remote.webelement.WebElement (session=\"2ecd103a08f04f00f2e7122861800a5e\", element=\"c9407167-6019-4411-9e93-64d8c83e4e55\")>,\n",
       " <selenium.webdriver.remote.webelement.WebElement (session=\"2ecd103a08f04f00f2e7122861800a5e\", element=\"d3e918d6-3e56-4213-8c47-fc8a4cceafcd\")>,\n",
       " <selenium.webdriver.remote.webelement.WebElement (session=\"2ecd103a08f04f00f2e7122861800a5e\", element=\"c7cf9cdf-5eba-4510-bcc9-7e28bcac8b96\")>,\n",
       " <selenium.webdriver.remote.webelement.WebElement (session=\"2ecd103a08f04f00f2e7122861800a5e\", element=\"29055b34-750b-4edc-892f-b27d03156220\")>,\n",
       " <selenium.webdriver.remote.webelement.WebElement (session=\"2ecd103a08f04f00f2e7122861800a5e\", element=\"4775f591-fbcc-42f3-a96f-95c170a5390d\")>,\n",
       " <selenium.webdriver.remote.webelement.WebElement (session=\"2ecd103a08f04f00f2e7122861800a5e\", element=\"6a2aa0ed-88c9-4ddb-9a7c-1be662e9c110\")>,\n",
       " <selenium.webdriver.remote.webelement.WebElement (session=\"2ecd103a08f04f00f2e7122861800a5e\", element=\"1d68eccb-5946-4172-b5c0-345a22261438\")>,\n",
       " <selenium.webdriver.remote.webelement.WebElement (session=\"2ecd103a08f04f00f2e7122861800a5e\", element=\"02900f32-56ed-45b0-baca-5ba9fa4fc3e9\")>,\n",
       " <selenium.webdriver.remote.webelement.WebElement (session=\"2ecd103a08f04f00f2e7122861800a5e\", element=\"259d2a37-fbc9-43b0-be6c-5c1bbbf05817\")>,\n",
       " <selenium.webdriver.remote.webelement.WebElement (session=\"2ecd103a08f04f00f2e7122861800a5e\", element=\"11c62ffb-9f46-4d38-a0e0-cfefe6b7702c\")>,\n",
       " <selenium.webdriver.remote.webelement.WebElement (session=\"2ecd103a08f04f00f2e7122861800a5e\", element=\"ab05d80f-1677-434d-b13b-1641a5a57334\")>,\n",
       " <selenium.webdriver.remote.webelement.WebElement (session=\"2ecd103a08f04f00f2e7122861800a5e\", element=\"477a55f2-5ce9-4c0c-b109-5eb91e626f3e\")>,\n",
       " <selenium.webdriver.remote.webelement.WebElement (session=\"2ecd103a08f04f00f2e7122861800a5e\", element=\"17007c6c-1d84-4afe-9798-74cff6b12271\")>,\n",
       " <selenium.webdriver.remote.webelement.WebElement (session=\"2ecd103a08f04f00f2e7122861800a5e\", element=\"997d23ba-182d-4359-932d-fce5f3f1cb9a\")>,\n",
       " <selenium.webdriver.remote.webelement.WebElement (session=\"2ecd103a08f04f00f2e7122861800a5e\", element=\"bc70a2c2-0be4-4ed2-af5d-df2299f6daa8\")>,\n",
       " <selenium.webdriver.remote.webelement.WebElement (session=\"2ecd103a08f04f00f2e7122861800a5e\", element=\"c3a6ffab-7967-4ba1-8c8e-d27cd60d4a76\")>,\n",
       " <selenium.webdriver.remote.webelement.WebElement (session=\"2ecd103a08f04f00f2e7122861800a5e\", element=\"589a2a92-c68d-4cda-9478-6cd2fa65ce98\")>,\n",
       " <selenium.webdriver.remote.webelement.WebElement (session=\"2ecd103a08f04f00f2e7122861800a5e\", element=\"15ac80e6-d168-4fd3-861a-f5edf1655678\")>,\n",
       " <selenium.webdriver.remote.webelement.WebElement (session=\"2ecd103a08f04f00f2e7122861800a5e\", element=\"323629c6-b897-4c3c-b0ad-c7bd8f170636\")>,\n",
       " <selenium.webdriver.remote.webelement.WebElement (session=\"2ecd103a08f04f00f2e7122861800a5e\", element=\"c6ed2aba-24c2-4bd1-8424-0d08abe0814c\")>,\n",
       " <selenium.webdriver.remote.webelement.WebElement (session=\"2ecd103a08f04f00f2e7122861800a5e\", element=\"aa58e550-67d1-4961-a4fb-936113eebe02\")>,\n",
       " <selenium.webdriver.remote.webelement.WebElement (session=\"2ecd103a08f04f00f2e7122861800a5e\", element=\"d0746966-252a-425d-9f4b-6295dbfce2c1\")>,\n",
       " <selenium.webdriver.remote.webelement.WebElement (session=\"2ecd103a08f04f00f2e7122861800a5e\", element=\"25c454f1-1a11-4e0b-b121-1658b08f7f68\")>,\n",
       " <selenium.webdriver.remote.webelement.WebElement (session=\"2ecd103a08f04f00f2e7122861800a5e\", element=\"df060534-649c-40fd-97f8-fbb005a277e8\")>,\n",
       " <selenium.webdriver.remote.webelement.WebElement (session=\"2ecd103a08f04f00f2e7122861800a5e\", element=\"d3deb3f4-4186-4990-88bd-8bbb693f74bc\")>,\n",
       " <selenium.webdriver.remote.webelement.WebElement (session=\"2ecd103a08f04f00f2e7122861800a5e\", element=\"6b30fd17-b79d-4000-bba6-644774437458\")>,\n",
       " <selenium.webdriver.remote.webelement.WebElement (session=\"2ecd103a08f04f00f2e7122861800a5e\", element=\"5c30b415-36ce-45a7-8a95-a16774d37d9b\")>,\n",
       " <selenium.webdriver.remote.webelement.WebElement (session=\"2ecd103a08f04f00f2e7122861800a5e\", element=\"8c15c828-1acd-4aaa-81cb-7fc4f5d742d1\")>,\n",
       " <selenium.webdriver.remote.webelement.WebElement (session=\"2ecd103a08f04f00f2e7122861800a5e\", element=\"3cab2fa7-3474-48a6-b249-b712192c0813\")>,\n",
       " <selenium.webdriver.remote.webelement.WebElement (session=\"2ecd103a08f04f00f2e7122861800a5e\", element=\"6de3484e-5a01-4a38-ab81-90d57a6ddb6b\")>,\n",
       " <selenium.webdriver.remote.webelement.WebElement (session=\"2ecd103a08f04f00f2e7122861800a5e\", element=\"6af774a4-0f03-4d9d-8b58-a54881bf4c74\")>,\n",
       " <selenium.webdriver.remote.webelement.WebElement (session=\"2ecd103a08f04f00f2e7122861800a5e\", element=\"2547fe79-dada-4b52-a205-8ba6d926a2b5\")>,\n",
       " <selenium.webdriver.remote.webelement.WebElement (session=\"2ecd103a08f04f00f2e7122861800a5e\", element=\"ae996287-a224-48b2-9a4d-06dc834a1a2e\")>,\n",
       " <selenium.webdriver.remote.webelement.WebElement (session=\"2ecd103a08f04f00f2e7122861800a5e\", element=\"6d0f4b60-31eb-42b5-a0ad-90e0048b6bd9\")>]"
      ]
     },
     "execution_count": 6,
     "metadata": {},
     "output_type": "execute_result"
    }
   ],
   "source": [
    "url_tags=driver.find_elements_by_xpath('//a[@class=\"IRpwTa\"]')\n",
    "url_tags"
   ]
  },
  {
   "cell_type": "code",
   "execution_count": 7,
   "id": "9bfda239",
   "metadata": {},
   "outputs": [
    {
     "data": {
      "text/plain": [
       "['https://www.flipkart.com/hamiw-collection-wayfarer-sports-shield-rectangular-retro-square-sunglasses/p/itme15648f3a4842?pid=SGLFX9FFSBSGV9DB&lid=LSTSGLFX9FFSBSGV9DBITLBWZ&marketplace=FLIPKART&q=sunglasses&store=26x&srno=s_1_1&otracker=search&otracker1=search&fm=SEARCH&iid=en_lefcdWP%2F08EgQNLUXfBXwip2He5D71uXZNHf6vomxylmASdqorJAP8PcqNamu7Bw2%2FgE6rhxzGICem5lOWLwNQ%3D%3D&ppt=hp&ppn=homepage&ssid=fmd5r1zkc00000001628315833207&qH=2cc465e3eef5bff0',\n",
       " 'https://www.flipkart.com/hamiw-collection-wayfarer-sports-shield-rectangular-retro-square-sunglasses/p/itme15648f3a4842?pid=SGLFX9FFSBSGV9DB&lid=LSTSGLFX9FFSBSGV9DBITLBWZ&marketplace=FLIPKART&q=sunglasses&store=26x&srno=s_1_1&otracker=search&otracker1=search&fm=SEARCH&iid=en_lefcdWP%2F08EgQNLUXfBXwip2He5D71uXZNHf6vomxylmASdqorJAP8PcqNamu7Bw2%2FgE6rhxzGICem5lOWLwNQ%3D%3D&ppt=hp&ppn=homepage&ssid=fmd5r1zkc00000001628315833207&qH=2cc465e3eef5bff0',\n",
       " 'https://www.flipkart.com/hamiw-collection-wayfarer-sports-shield-rectangular-retro-square-sunglasses/p/itme15648f3a4842?pid=SGLFX9FFSBSGV9DB&lid=LSTSGLFX9FFSBSGV9DBITLBWZ&marketplace=FLIPKART&q=sunglasses&store=26x&srno=s_1_1&otracker=search&otracker1=search&fm=SEARCH&iid=en_lefcdWP%2F08EgQNLUXfBXwip2He5D71uXZNHf6vomxylmASdqorJAP8PcqNamu7Bw2%2FgE6rhxzGICem5lOWLwNQ%3D%3D&ppt=hp&ppn=homepage&ssid=fmd5r1zkc00000001628315833207&qH=2cc465e3eef5bff0',\n",
       " 'https://www.flipkart.com/hamiw-collection-wayfarer-sports-shield-rectangular-retro-square-sunglasses/p/itme15648f3a4842?pid=SGLFX9FFSBSGV9DB&lid=LSTSGLFX9FFSBSGV9DBITLBWZ&marketplace=FLIPKART&q=sunglasses&store=26x&srno=s_1_1&otracker=search&otracker1=search&fm=SEARCH&iid=en_lefcdWP%2F08EgQNLUXfBXwip2He5D71uXZNHf6vomxylmASdqorJAP8PcqNamu7Bw2%2FgE6rhxzGICem5lOWLwNQ%3D%3D&ppt=hp&ppn=homepage&ssid=fmd5r1zkc00000001628315833207&qH=2cc465e3eef5bff0',\n",
       " 'https://www.flipkart.com/hamiw-collection-wayfarer-sports-shield-rectangular-retro-square-sunglasses/p/itme15648f3a4842?pid=SGLFX9FFSBSGV9DB&lid=LSTSGLFX9FFSBSGV9DBITLBWZ&marketplace=FLIPKART&q=sunglasses&store=26x&srno=s_1_1&otracker=search&otracker1=search&fm=SEARCH&iid=en_lefcdWP%2F08EgQNLUXfBXwip2He5D71uXZNHf6vomxylmASdqorJAP8PcqNamu7Bw2%2FgE6rhxzGICem5lOWLwNQ%3D%3D&ppt=hp&ppn=homepage&ssid=fmd5r1zkc00000001628315833207&qH=2cc465e3eef5bff0',\n",
       " 'https://www.flipkart.com/hamiw-collection-wayfarer-sports-shield-rectangular-retro-square-sunglasses/p/itme15648f3a4842?pid=SGLFX9FFSBSGV9DB&lid=LSTSGLFX9FFSBSGV9DBITLBWZ&marketplace=FLIPKART&q=sunglasses&store=26x&srno=s_1_1&otracker=search&otracker1=search&fm=SEARCH&iid=en_lefcdWP%2F08EgQNLUXfBXwip2He5D71uXZNHf6vomxylmASdqorJAP8PcqNamu7Bw2%2FgE6rhxzGICem5lOWLwNQ%3D%3D&ppt=hp&ppn=homepage&ssid=fmd5r1zkc00000001628315833207&qH=2cc465e3eef5bff0',\n",
       " 'https://www.flipkart.com/hamiw-collection-wayfarer-sports-shield-rectangular-retro-square-sunglasses/p/itme15648f3a4842?pid=SGLFX9FFSBSGV9DB&lid=LSTSGLFX9FFSBSGV9DBITLBWZ&marketplace=FLIPKART&q=sunglasses&store=26x&srno=s_1_1&otracker=search&otracker1=search&fm=SEARCH&iid=en_lefcdWP%2F08EgQNLUXfBXwip2He5D71uXZNHf6vomxylmASdqorJAP8PcqNamu7Bw2%2FgE6rhxzGICem5lOWLwNQ%3D%3D&ppt=hp&ppn=homepage&ssid=fmd5r1zkc00000001628315833207&qH=2cc465e3eef5bff0',\n",
       " 'https://www.flipkart.com/hamiw-collection-wayfarer-sports-shield-rectangular-retro-square-sunglasses/p/itme15648f3a4842?pid=SGLFX9FFSBSGV9DB&lid=LSTSGLFX9FFSBSGV9DBITLBWZ&marketplace=FLIPKART&q=sunglasses&store=26x&srno=s_1_1&otracker=search&otracker1=search&fm=SEARCH&iid=en_lefcdWP%2F08EgQNLUXfBXwip2He5D71uXZNHf6vomxylmASdqorJAP8PcqNamu7Bw2%2FgE6rhxzGICem5lOWLwNQ%3D%3D&ppt=hp&ppn=homepage&ssid=fmd5r1zkc00000001628315833207&qH=2cc465e3eef5bff0',\n",
       " 'https://www.flipkart.com/hamiw-collection-wayfarer-sports-shield-rectangular-retro-square-sunglasses/p/itme15648f3a4842?pid=SGLFX9FFSBSGV9DB&lid=LSTSGLFX9FFSBSGV9DBITLBWZ&marketplace=FLIPKART&q=sunglasses&store=26x&srno=s_1_1&otracker=search&otracker1=search&fm=SEARCH&iid=en_lefcdWP%2F08EgQNLUXfBXwip2He5D71uXZNHf6vomxylmASdqorJAP8PcqNamu7Bw2%2FgE6rhxzGICem5lOWLwNQ%3D%3D&ppt=hp&ppn=homepage&ssid=fmd5r1zkc00000001628315833207&qH=2cc465e3eef5bff0',\n",
       " 'https://www.flipkart.com/hamiw-collection-wayfarer-sports-shield-rectangular-retro-square-sunglasses/p/itme15648f3a4842?pid=SGLFX9FFSBSGV9DB&lid=LSTSGLFX9FFSBSGV9DBITLBWZ&marketplace=FLIPKART&q=sunglasses&store=26x&srno=s_1_1&otracker=search&otracker1=search&fm=SEARCH&iid=en_lefcdWP%2F08EgQNLUXfBXwip2He5D71uXZNHf6vomxylmASdqorJAP8PcqNamu7Bw2%2FgE6rhxzGICem5lOWLwNQ%3D%3D&ppt=hp&ppn=homepage&ssid=fmd5r1zkc00000001628315833207&qH=2cc465e3eef5bff0',\n",
       " 'https://www.flipkart.com/hamiw-collection-wayfarer-sports-shield-rectangular-retro-square-sunglasses/p/itme15648f3a4842?pid=SGLFX9FFSBSGV9DB&lid=LSTSGLFX9FFSBSGV9DBITLBWZ&marketplace=FLIPKART&q=sunglasses&store=26x&srno=s_1_1&otracker=search&otracker1=search&fm=SEARCH&iid=en_lefcdWP%2F08EgQNLUXfBXwip2He5D71uXZNHf6vomxylmASdqorJAP8PcqNamu7Bw2%2FgE6rhxzGICem5lOWLwNQ%3D%3D&ppt=hp&ppn=homepage&ssid=fmd5r1zkc00000001628315833207&qH=2cc465e3eef5bff0',\n",
       " 'https://www.flipkart.com/hamiw-collection-wayfarer-sports-shield-rectangular-retro-square-sunglasses/p/itme15648f3a4842?pid=SGLFX9FFSBSGV9DB&lid=LSTSGLFX9FFSBSGV9DBITLBWZ&marketplace=FLIPKART&q=sunglasses&store=26x&srno=s_1_1&otracker=search&otracker1=search&fm=SEARCH&iid=en_lefcdWP%2F08EgQNLUXfBXwip2He5D71uXZNHf6vomxylmASdqorJAP8PcqNamu7Bw2%2FgE6rhxzGICem5lOWLwNQ%3D%3D&ppt=hp&ppn=homepage&ssid=fmd5r1zkc00000001628315833207&qH=2cc465e3eef5bff0',\n",
       " 'https://www.flipkart.com/hamiw-collection-wayfarer-sports-shield-rectangular-retro-square-sunglasses/p/itme15648f3a4842?pid=SGLFX9FFSBSGV9DB&lid=LSTSGLFX9FFSBSGV9DBITLBWZ&marketplace=FLIPKART&q=sunglasses&store=26x&srno=s_1_1&otracker=search&otracker1=search&fm=SEARCH&iid=en_lefcdWP%2F08EgQNLUXfBXwip2He5D71uXZNHf6vomxylmASdqorJAP8PcqNamu7Bw2%2FgE6rhxzGICem5lOWLwNQ%3D%3D&ppt=hp&ppn=homepage&ssid=fmd5r1zkc00000001628315833207&qH=2cc465e3eef5bff0',\n",
       " 'https://www.flipkart.com/hamiw-collection-wayfarer-sports-shield-rectangular-retro-square-sunglasses/p/itme15648f3a4842?pid=SGLFX9FFSBSGV9DB&lid=LSTSGLFX9FFSBSGV9DBITLBWZ&marketplace=FLIPKART&q=sunglasses&store=26x&srno=s_1_1&otracker=search&otracker1=search&fm=SEARCH&iid=en_lefcdWP%2F08EgQNLUXfBXwip2He5D71uXZNHf6vomxylmASdqorJAP8PcqNamu7Bw2%2FgE6rhxzGICem5lOWLwNQ%3D%3D&ppt=hp&ppn=homepage&ssid=fmd5r1zkc00000001628315833207&qH=2cc465e3eef5bff0',\n",
       " 'https://www.flipkart.com/hamiw-collection-wayfarer-sports-shield-rectangular-retro-square-sunglasses/p/itme15648f3a4842?pid=SGLFX9FFSBSGV9DB&lid=LSTSGLFX9FFSBSGV9DBITLBWZ&marketplace=FLIPKART&q=sunglasses&store=26x&srno=s_1_1&otracker=search&otracker1=search&fm=SEARCH&iid=en_lefcdWP%2F08EgQNLUXfBXwip2He5D71uXZNHf6vomxylmASdqorJAP8PcqNamu7Bw2%2FgE6rhxzGICem5lOWLwNQ%3D%3D&ppt=hp&ppn=homepage&ssid=fmd5r1zkc00000001628315833207&qH=2cc465e3eef5bff0',\n",
       " 'https://www.flipkart.com/hamiw-collection-wayfarer-sports-shield-rectangular-retro-square-sunglasses/p/itme15648f3a4842?pid=SGLFX9FFSBSGV9DB&lid=LSTSGLFX9FFSBSGV9DBITLBWZ&marketplace=FLIPKART&q=sunglasses&store=26x&srno=s_1_1&otracker=search&otracker1=search&fm=SEARCH&iid=en_lefcdWP%2F08EgQNLUXfBXwip2He5D71uXZNHf6vomxylmASdqorJAP8PcqNamu7Bw2%2FgE6rhxzGICem5lOWLwNQ%3D%3D&ppt=hp&ppn=homepage&ssid=fmd5r1zkc00000001628315833207&qH=2cc465e3eef5bff0',\n",
       " 'https://www.flipkart.com/hamiw-collection-wayfarer-sports-shield-rectangular-retro-square-sunglasses/p/itme15648f3a4842?pid=SGLFX9FFSBSGV9DB&lid=LSTSGLFX9FFSBSGV9DBITLBWZ&marketplace=FLIPKART&q=sunglasses&store=26x&srno=s_1_1&otracker=search&otracker1=search&fm=SEARCH&iid=en_lefcdWP%2F08EgQNLUXfBXwip2He5D71uXZNHf6vomxylmASdqorJAP8PcqNamu7Bw2%2FgE6rhxzGICem5lOWLwNQ%3D%3D&ppt=hp&ppn=homepage&ssid=fmd5r1zkc00000001628315833207&qH=2cc465e3eef5bff0',\n",
       " 'https://www.flipkart.com/hamiw-collection-wayfarer-sports-shield-rectangular-retro-square-sunglasses/p/itme15648f3a4842?pid=SGLFX9FFSBSGV9DB&lid=LSTSGLFX9FFSBSGV9DBITLBWZ&marketplace=FLIPKART&q=sunglasses&store=26x&srno=s_1_1&otracker=search&otracker1=search&fm=SEARCH&iid=en_lefcdWP%2F08EgQNLUXfBXwip2He5D71uXZNHf6vomxylmASdqorJAP8PcqNamu7Bw2%2FgE6rhxzGICem5lOWLwNQ%3D%3D&ppt=hp&ppn=homepage&ssid=fmd5r1zkc00000001628315833207&qH=2cc465e3eef5bff0',\n",
       " 'https://www.flipkart.com/hamiw-collection-wayfarer-sports-shield-rectangular-retro-square-sunglasses/p/itme15648f3a4842?pid=SGLFX9FFSBSGV9DB&lid=LSTSGLFX9FFSBSGV9DBITLBWZ&marketplace=FLIPKART&q=sunglasses&store=26x&srno=s_1_1&otracker=search&otracker1=search&fm=SEARCH&iid=en_lefcdWP%2F08EgQNLUXfBXwip2He5D71uXZNHf6vomxylmASdqorJAP8PcqNamu7Bw2%2FgE6rhxzGICem5lOWLwNQ%3D%3D&ppt=hp&ppn=homepage&ssid=fmd5r1zkc00000001628315833207&qH=2cc465e3eef5bff0',\n",
       " 'https://www.flipkart.com/hamiw-collection-wayfarer-sports-shield-rectangular-retro-square-sunglasses/p/itme15648f3a4842?pid=SGLFX9FFSBSGV9DB&lid=LSTSGLFX9FFSBSGV9DBITLBWZ&marketplace=FLIPKART&q=sunglasses&store=26x&srno=s_1_1&otracker=search&otracker1=search&fm=SEARCH&iid=en_lefcdWP%2F08EgQNLUXfBXwip2He5D71uXZNHf6vomxylmASdqorJAP8PcqNamu7Bw2%2FgE6rhxzGICem5lOWLwNQ%3D%3D&ppt=hp&ppn=homepage&ssid=fmd5r1zkc00000001628315833207&qH=2cc465e3eef5bff0',\n",
       " 'https://www.flipkart.com/hamiw-collection-wayfarer-sports-shield-rectangular-retro-square-sunglasses/p/itme15648f3a4842?pid=SGLFX9FFSBSGV9DB&lid=LSTSGLFX9FFSBSGV9DBITLBWZ&marketplace=FLIPKART&q=sunglasses&store=26x&srno=s_1_1&otracker=search&otracker1=search&fm=SEARCH&iid=en_lefcdWP%2F08EgQNLUXfBXwip2He5D71uXZNHf6vomxylmASdqorJAP8PcqNamu7Bw2%2FgE6rhxzGICem5lOWLwNQ%3D%3D&ppt=hp&ppn=homepage&ssid=fmd5r1zkc00000001628315833207&qH=2cc465e3eef5bff0',\n",
       " 'https://www.flipkart.com/hamiw-collection-wayfarer-sports-shield-rectangular-retro-square-sunglasses/p/itme15648f3a4842?pid=SGLFX9FFSBSGV9DB&lid=LSTSGLFX9FFSBSGV9DBITLBWZ&marketplace=FLIPKART&q=sunglasses&store=26x&srno=s_1_1&otracker=search&otracker1=search&fm=SEARCH&iid=en_lefcdWP%2F08EgQNLUXfBXwip2He5D71uXZNHf6vomxylmASdqorJAP8PcqNamu7Bw2%2FgE6rhxzGICem5lOWLwNQ%3D%3D&ppt=hp&ppn=homepage&ssid=fmd5r1zkc00000001628315833207&qH=2cc465e3eef5bff0',\n",
       " 'https://www.flipkart.com/hamiw-collection-wayfarer-sports-shield-rectangular-retro-square-sunglasses/p/itme15648f3a4842?pid=SGLFX9FFSBSGV9DB&lid=LSTSGLFX9FFSBSGV9DBITLBWZ&marketplace=FLIPKART&q=sunglasses&store=26x&srno=s_1_1&otracker=search&otracker1=search&fm=SEARCH&iid=en_lefcdWP%2F08EgQNLUXfBXwip2He5D71uXZNHf6vomxylmASdqorJAP8PcqNamu7Bw2%2FgE6rhxzGICem5lOWLwNQ%3D%3D&ppt=hp&ppn=homepage&ssid=fmd5r1zkc00000001628315833207&qH=2cc465e3eef5bff0',\n",
       " 'https://www.flipkart.com/hamiw-collection-wayfarer-sports-shield-rectangular-retro-square-sunglasses/p/itme15648f3a4842?pid=SGLFX9FFSBSGV9DB&lid=LSTSGLFX9FFSBSGV9DBITLBWZ&marketplace=FLIPKART&q=sunglasses&store=26x&srno=s_1_1&otracker=search&otracker1=search&fm=SEARCH&iid=en_lefcdWP%2F08EgQNLUXfBXwip2He5D71uXZNHf6vomxylmASdqorJAP8PcqNamu7Bw2%2FgE6rhxzGICem5lOWLwNQ%3D%3D&ppt=hp&ppn=homepage&ssid=fmd5r1zkc00000001628315833207&qH=2cc465e3eef5bff0',\n",
       " 'https://www.flipkart.com/hamiw-collection-wayfarer-sports-shield-rectangular-retro-square-sunglasses/p/itme15648f3a4842?pid=SGLFX9FFSBSGV9DB&lid=LSTSGLFX9FFSBSGV9DBITLBWZ&marketplace=FLIPKART&q=sunglasses&store=26x&srno=s_1_1&otracker=search&otracker1=search&fm=SEARCH&iid=en_lefcdWP%2F08EgQNLUXfBXwip2He5D71uXZNHf6vomxylmASdqorJAP8PcqNamu7Bw2%2FgE6rhxzGICem5lOWLwNQ%3D%3D&ppt=hp&ppn=homepage&ssid=fmd5r1zkc00000001628315833207&qH=2cc465e3eef5bff0',\n",
       " 'https://www.flipkart.com/hamiw-collection-wayfarer-sports-shield-rectangular-retro-square-sunglasses/p/itme15648f3a4842?pid=SGLFX9FFSBSGV9DB&lid=LSTSGLFX9FFSBSGV9DBITLBWZ&marketplace=FLIPKART&q=sunglasses&store=26x&srno=s_1_1&otracker=search&otracker1=search&fm=SEARCH&iid=en_lefcdWP%2F08EgQNLUXfBXwip2He5D71uXZNHf6vomxylmASdqorJAP8PcqNamu7Bw2%2FgE6rhxzGICem5lOWLwNQ%3D%3D&ppt=hp&ppn=homepage&ssid=fmd5r1zkc00000001628315833207&qH=2cc465e3eef5bff0',\n",
       " 'https://www.flipkart.com/hamiw-collection-wayfarer-sports-shield-rectangular-retro-square-sunglasses/p/itme15648f3a4842?pid=SGLFX9FFSBSGV9DB&lid=LSTSGLFX9FFSBSGV9DBITLBWZ&marketplace=FLIPKART&q=sunglasses&store=26x&srno=s_1_1&otracker=search&otracker1=search&fm=SEARCH&iid=en_lefcdWP%2F08EgQNLUXfBXwip2He5D71uXZNHf6vomxylmASdqorJAP8PcqNamu7Bw2%2FgE6rhxzGICem5lOWLwNQ%3D%3D&ppt=hp&ppn=homepage&ssid=fmd5r1zkc00000001628315833207&qH=2cc465e3eef5bff0',\n",
       " 'https://www.flipkart.com/hamiw-collection-wayfarer-sports-shield-rectangular-retro-square-sunglasses/p/itme15648f3a4842?pid=SGLFX9FFSBSGV9DB&lid=LSTSGLFX9FFSBSGV9DBITLBWZ&marketplace=FLIPKART&q=sunglasses&store=26x&srno=s_1_1&otracker=search&otracker1=search&fm=SEARCH&iid=en_lefcdWP%2F08EgQNLUXfBXwip2He5D71uXZNHf6vomxylmASdqorJAP8PcqNamu7Bw2%2FgE6rhxzGICem5lOWLwNQ%3D%3D&ppt=hp&ppn=homepage&ssid=fmd5r1zkc00000001628315833207&qH=2cc465e3eef5bff0',\n",
       " 'https://www.flipkart.com/hamiw-collection-wayfarer-sports-shield-rectangular-retro-square-sunglasses/p/itme15648f3a4842?pid=SGLFX9FFSBSGV9DB&lid=LSTSGLFX9FFSBSGV9DBITLBWZ&marketplace=FLIPKART&q=sunglasses&store=26x&srno=s_1_1&otracker=search&otracker1=search&fm=SEARCH&iid=en_lefcdWP%2F08EgQNLUXfBXwip2He5D71uXZNHf6vomxylmASdqorJAP8PcqNamu7Bw2%2FgE6rhxzGICem5lOWLwNQ%3D%3D&ppt=hp&ppn=homepage&ssid=fmd5r1zkc00000001628315833207&qH=2cc465e3eef5bff0',\n",
       " 'https://www.flipkart.com/hamiw-collection-wayfarer-sports-shield-rectangular-retro-square-sunglasses/p/itme15648f3a4842?pid=SGLFX9FFSBSGV9DB&lid=LSTSGLFX9FFSBSGV9DBITLBWZ&marketplace=FLIPKART&q=sunglasses&store=26x&srno=s_1_1&otracker=search&otracker1=search&fm=SEARCH&iid=en_lefcdWP%2F08EgQNLUXfBXwip2He5D71uXZNHf6vomxylmASdqorJAP8PcqNamu7Bw2%2FgE6rhxzGICem5lOWLwNQ%3D%3D&ppt=hp&ppn=homepage&ssid=fmd5r1zkc00000001628315833207&qH=2cc465e3eef5bff0',\n",
       " 'https://www.flipkart.com/hamiw-collection-wayfarer-sports-shield-rectangular-retro-square-sunglasses/p/itme15648f3a4842?pid=SGLFX9FFSBSGV9DB&lid=LSTSGLFX9FFSBSGV9DBITLBWZ&marketplace=FLIPKART&q=sunglasses&store=26x&srno=s_1_1&otracker=search&otracker1=search&fm=SEARCH&iid=en_lefcdWP%2F08EgQNLUXfBXwip2He5D71uXZNHf6vomxylmASdqorJAP8PcqNamu7Bw2%2FgE6rhxzGICem5lOWLwNQ%3D%3D&ppt=hp&ppn=homepage&ssid=fmd5r1zkc00000001628315833207&qH=2cc465e3eef5bff0',\n",
       " 'https://www.flipkart.com/hamiw-collection-wayfarer-sports-shield-rectangular-retro-square-sunglasses/p/itme15648f3a4842?pid=SGLFX9FFSBSGV9DB&lid=LSTSGLFX9FFSBSGV9DBITLBWZ&marketplace=FLIPKART&q=sunglasses&store=26x&srno=s_1_1&otracker=search&otracker1=search&fm=SEARCH&iid=en_lefcdWP%2F08EgQNLUXfBXwip2He5D71uXZNHf6vomxylmASdqorJAP8PcqNamu7Bw2%2FgE6rhxzGICem5lOWLwNQ%3D%3D&ppt=hp&ppn=homepage&ssid=fmd5r1zkc00000001628315833207&qH=2cc465e3eef5bff0',\n",
       " 'https://www.flipkart.com/hamiw-collection-wayfarer-sports-shield-rectangular-retro-square-sunglasses/p/itme15648f3a4842?pid=SGLFX9FFSBSGV9DB&lid=LSTSGLFX9FFSBSGV9DBITLBWZ&marketplace=FLIPKART&q=sunglasses&store=26x&srno=s_1_1&otracker=search&otracker1=search&fm=SEARCH&iid=en_lefcdWP%2F08EgQNLUXfBXwip2He5D71uXZNHf6vomxylmASdqorJAP8PcqNamu7Bw2%2FgE6rhxzGICem5lOWLwNQ%3D%3D&ppt=hp&ppn=homepage&ssid=fmd5r1zkc00000001628315833207&qH=2cc465e3eef5bff0',\n",
       " 'https://www.flipkart.com/hamiw-collection-wayfarer-sports-shield-rectangular-retro-square-sunglasses/p/itme15648f3a4842?pid=SGLFX9FFSBSGV9DB&lid=LSTSGLFX9FFSBSGV9DBITLBWZ&marketplace=FLIPKART&q=sunglasses&store=26x&srno=s_1_1&otracker=search&otracker1=search&fm=SEARCH&iid=en_lefcdWP%2F08EgQNLUXfBXwip2He5D71uXZNHf6vomxylmASdqorJAP8PcqNamu7Bw2%2FgE6rhxzGICem5lOWLwNQ%3D%3D&ppt=hp&ppn=homepage&ssid=fmd5r1zkc00000001628315833207&qH=2cc465e3eef5bff0',\n",
       " 'https://www.flipkart.com/hamiw-collection-wayfarer-sports-shield-rectangular-retro-square-sunglasses/p/itme15648f3a4842?pid=SGLFX9FFSBSGV9DB&lid=LSTSGLFX9FFSBSGV9DBITLBWZ&marketplace=FLIPKART&q=sunglasses&store=26x&srno=s_1_1&otracker=search&otracker1=search&fm=SEARCH&iid=en_lefcdWP%2F08EgQNLUXfBXwip2He5D71uXZNHf6vomxylmASdqorJAP8PcqNamu7Bw2%2FgE6rhxzGICem5lOWLwNQ%3D%3D&ppt=hp&ppn=homepage&ssid=fmd5r1zkc00000001628315833207&qH=2cc465e3eef5bff0',\n",
       " 'https://www.flipkart.com/hamiw-collection-wayfarer-sports-shield-rectangular-retro-square-sunglasses/p/itme15648f3a4842?pid=SGLFX9FFSBSGV9DB&lid=LSTSGLFX9FFSBSGV9DBITLBWZ&marketplace=FLIPKART&q=sunglasses&store=26x&srno=s_1_1&otracker=search&otracker1=search&fm=SEARCH&iid=en_lefcdWP%2F08EgQNLUXfBXwip2He5D71uXZNHf6vomxylmASdqorJAP8PcqNamu7Bw2%2FgE6rhxzGICem5lOWLwNQ%3D%3D&ppt=hp&ppn=homepage&ssid=fmd5r1zkc00000001628315833207&qH=2cc465e3eef5bff0',\n",
       " 'https://www.flipkart.com/hamiw-collection-wayfarer-sports-shield-rectangular-retro-square-sunglasses/p/itme15648f3a4842?pid=SGLFX9FFSBSGV9DB&lid=LSTSGLFX9FFSBSGV9DBITLBWZ&marketplace=FLIPKART&q=sunglasses&store=26x&srno=s_1_1&otracker=search&otracker1=search&fm=SEARCH&iid=en_lefcdWP%2F08EgQNLUXfBXwip2He5D71uXZNHf6vomxylmASdqorJAP8PcqNamu7Bw2%2FgE6rhxzGICem5lOWLwNQ%3D%3D&ppt=hp&ppn=homepage&ssid=fmd5r1zkc00000001628315833207&qH=2cc465e3eef5bff0',\n",
       " 'https://www.flipkart.com/hamiw-collection-wayfarer-sports-shield-rectangular-retro-square-sunglasses/p/itme15648f3a4842?pid=SGLFX9FFSBSGV9DB&lid=LSTSGLFX9FFSBSGV9DBITLBWZ&marketplace=FLIPKART&q=sunglasses&store=26x&srno=s_1_1&otracker=search&otracker1=search&fm=SEARCH&iid=en_lefcdWP%2F08EgQNLUXfBXwip2He5D71uXZNHf6vomxylmASdqorJAP8PcqNamu7Bw2%2FgE6rhxzGICem5lOWLwNQ%3D%3D&ppt=hp&ppn=homepage&ssid=fmd5r1zkc00000001628315833207&qH=2cc465e3eef5bff0',\n",
       " 'https://www.flipkart.com/hamiw-collection-wayfarer-sports-shield-rectangular-retro-square-sunglasses/p/itme15648f3a4842?pid=SGLFX9FFSBSGV9DB&lid=LSTSGLFX9FFSBSGV9DBITLBWZ&marketplace=FLIPKART&q=sunglasses&store=26x&srno=s_1_1&otracker=search&otracker1=search&fm=SEARCH&iid=en_lefcdWP%2F08EgQNLUXfBXwip2He5D71uXZNHf6vomxylmASdqorJAP8PcqNamu7Bw2%2FgE6rhxzGICem5lOWLwNQ%3D%3D&ppt=hp&ppn=homepage&ssid=fmd5r1zkc00000001628315833207&qH=2cc465e3eef5bff0',\n",
       " 'https://www.flipkart.com/hamiw-collection-wayfarer-sports-shield-rectangular-retro-square-sunglasses/p/itme15648f3a4842?pid=SGLFX9FFSBSGV9DB&lid=LSTSGLFX9FFSBSGV9DBITLBWZ&marketplace=FLIPKART&q=sunglasses&store=26x&srno=s_1_1&otracker=search&otracker1=search&fm=SEARCH&iid=en_lefcdWP%2F08EgQNLUXfBXwip2He5D71uXZNHf6vomxylmASdqorJAP8PcqNamu7Bw2%2FgE6rhxzGICem5lOWLwNQ%3D%3D&ppt=hp&ppn=homepage&ssid=fmd5r1zkc00000001628315833207&qH=2cc465e3eef5bff0']"
      ]
     },
     "execution_count": 7,
     "metadata": {},
     "output_type": "execute_result"
    }
   ],
   "source": [
    "urls=[]\n",
    "for i in url_tags:\n",
    "    for j in i.find_elements_by_xpath('/html/body/div[1]/div/div[3]/div[1]/div[2]/div[2]/div/div[1]/div/div[2]/a[1]'):\n",
    "        urls.append(j.get_attribute('href'))\n",
    "urls        "
   ]
  },
  {
   "cell_type": "code",
   "execution_count": 8,
   "id": "0573181a",
   "metadata": {},
   "outputs": [
    {
     "data": {
      "text/plain": [
       "[<selenium.webdriver.remote.webelement.WebElement (session=\"2ecd103a08f04f00f2e7122861800a5e\", element=\"479b862c-12ff-4762-aa2e-dc12497dc2aa\")>]"
      ]
     },
     "execution_count": 8,
     "metadata": {},
     "output_type": "execute_result"
    }
   ],
   "source": [
    "Product_name=[]\n",
    "for url in urls:\n",
    "    sunglasses=driver.get(url)\n",
    "    try:\n",
    "        \n",
    "        Product_name=driver.find_elements_by_xpath(\"//h1[@class='yhB1nd']\")\n",
    "        Product_name.append(Product_name.text)\n",
    "    except:\n",
    "        pass    \n",
    "Product_name    "
   ]
  },
  {
   "cell_type": "code",
   "execution_count": null,
   "id": "5ea5a13e",
   "metadata": {},
   "outputs": [],
   "source": []
  }
 ],
 "metadata": {
  "kernelspec": {
   "display_name": "Python 3",
   "language": "python",
   "name": "python3"
  },
  "language_info": {
   "codemirror_mode": {
    "name": "ipython",
    "version": 3
   },
   "file_extension": ".py",
   "mimetype": "text/x-python",
   "name": "python",
   "nbconvert_exporter": "python",
   "pygments_lexer": "ipython3",
   "version": "3.8.8"
  }
 },
 "nbformat": 4,
 "nbformat_minor": 5
}
